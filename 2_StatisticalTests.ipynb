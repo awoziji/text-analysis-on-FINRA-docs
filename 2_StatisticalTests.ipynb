{
 "cells": [
  {
   "cell_type": "code",
   "execution_count": 1,
   "metadata": {},
   "outputs": [
    {
     "name": "stderr",
     "output_type": "stream",
     "text": [
      "Loading required package: DescTools\n",
      "Loading required package: multcompView\n",
      "Loading required package: rcompanion\n"
     ]
    }
   ],
   "source": [
    "## importing and loading libraries\n",
    "if(!require(DescTools)){install.packages(\"DescTools\")}\n",
    "if(!require(multcompView)){install.packages(\"multcompView\")}\n",
    "if(!require(rcompanion)){install.packages(\"rcompanion\")}"
   ]
  },
  {
   "cell_type": "markdown",
   "metadata": {},
   "source": [
    "## Fischer Test to see independence of the groups"
   ]
  },
  {
   "cell_type": "code",
   "execution_count": 2,
   "metadata": {},
   "outputs": [],
   "source": [
    "Input =(\"\n",
    "Group               Win   Loss\n",
    "Group_1_Pro_Se\t1022\t587\n",
    "Group_2_One_Non_Attorney\t1528\t623\n",
    "Group_3_One_Attorney\t5247\t2100\n",
    "Group_4_Multiple_Representatives\t142\t94\n",
    "\")\n",
    "Matrix = as.matrix(read.table(textConnection(Input),\n",
    "                   header=TRUE, \n",
    "                   row.names=1))\n",
    "\n"
   ]
  },
  {
   "cell_type": "code",
   "execution_count": 3,
   "metadata": {},
   "outputs": [
    {
     "data": {
      "text/plain": [
       "\n",
       "\tFisher's Exact Test for Count Data\n",
       "\n",
       "data:  Matrix\n",
       "p-value = 8.947e-11\n",
       "alternative hypothesis: two.sided\n"
      ]
     },
     "metadata": {},
     "output_type": "display_data"
    }
   ],
   "source": [
    "fisher.test(Matrix,alternative=\"two.sided\",hybrid =TRUE)"
   ]
  },
  {
   "cell_type": "markdown",
   "metadata": {},
   "source": [
    "### Pairwise Independence "
   ]
  },
  {
   "cell_type": "code",
   "execution_count": 4,
   "metadata": {},
   "outputs": [
    {
     "data": {
      "text/html": [
       "<table>\n",
       "<thead><tr><th scope=col>Group</th><th scope=col>Letter</th><th scope=col>MonoLetter</th></tr></thead>\n",
       "<tbody>\n",
       "\t<tr><td>Group_1_Pro_Se                  </td><td>a                               </td><td>a                               </td></tr>\n",
       "\t<tr><td>Group_2_One_Non_Attorney        </td><td>b                               </td><td> b                              </td></tr>\n",
       "\t<tr><td>Group_3_One_Attorney            </td><td>b                               </td><td> b                              </td></tr>\n",
       "\t<tr><td>Group_4_Multiple_Representatives</td><td>a                               </td><td>a                               </td></tr>\n",
       "</tbody>\n",
       "</table>\n"
      ],
      "text/latex": [
       "\\begin{tabular}{r|lll}\n",
       " Group & Letter & MonoLetter\\\\\n",
       "\\hline\n",
       "\t Group\\_1\\_Pro\\_Se                   & a                                      & a                                     \\\\\n",
       "\t Group\\_2\\_One\\_Non\\_Attorney         & b                                        &  b                                      \\\\\n",
       "\t Group\\_3\\_One\\_Attorney             & b                                      &  b                                    \\\\\n",
       "\t Group\\_4\\_Multiple\\_Representatives & a                                      & a                                     \\\\\n",
       "\\end{tabular}\n"
      ],
      "text/markdown": [
       "\n",
       "Group | Letter | MonoLetter | \n",
       "|---|---|---|---|\n",
       "| Group_1_Pro_Se                   | a                                | a                                | \n",
       "| Group_2_One_Non_Attorney         | b                                |  b                               | \n",
       "| Group_3_One_Attorney             | b                                |  b                               | \n",
       "| Group_4_Multiple_Representatives | a                                | a                                | \n",
       "\n",
       "\n"
      ],
      "text/plain": [
       "  Group                            Letter MonoLetter\n",
       "1 Group_1_Pro_Se                   a      a         \n",
       "2 Group_2_One_Non_Attorney         b       b        \n",
       "3 Group_3_One_Attorney             b       b        \n",
       "4 Group_4_Multiple_Representatives a      a         "
      ]
     },
     "metadata": {},
     "output_type": "display_data"
    }
   ],
   "source": [
    "library(rcompanion)\n",
    "\n",
    "PT = pairwiseNominalIndependence(Matrix,fisher = TRUE,gtest  = FALSE,chisq  = FALSE,digits = 3)\n",
    "\n",
    "cldList(comparison = PT$Comparison,\n",
    "        p.value    = PT$p.adj.Fisher,\n",
    "        threshold  = 0.05)"
   ]
  },
  {
   "cell_type": "markdown",
   "metadata": {},
   "source": [
    "## Regression Analysis on the Data"
   ]
  },
  {
   "cell_type": "code",
   "execution_count": 5,
   "metadata": {},
   "outputs": [],
   "source": [
    "setwd(\"/home/siddhant/Desktop/projects/finra_legal_analytics\")\n",
    "training.data.raw <- read.csv('data/processed/master_nov_26_20_41.csv',header=T,na.strings=c(\"\"))\n"
   ]
  },
  {
   "cell_type": "code",
   "execution_count": 6,
   "metadata": {},
   "outputs": [],
   "source": [
    "## Substting required data\n",
    "data <- subset(training.data.raw,select=c(2:23))\n",
    "cols <- c(2:20)"
   ]
  },
  {
   "cell_type": "code",
   "execution_count": 7,
   "metadata": {},
   "outputs": [],
   "source": [
    "## Converting to features\n",
    "data[cols] <- lapply(data[cols], factor)"
   ]
  },
  {
   "cell_type": "code",
   "execution_count": 13,
   "metadata": {},
   "outputs": [
    {
     "name": "stderr",
     "output_type": "stream",
     "text": [
      "Installing package into ‘/usr/local/lib/R/site-library’\n",
      "(as ‘lib’ is unspecified)\n"
     ]
    }
   ],
   "source": [
    "install.packages(\"caTools\")\n",
    "library(caTools)"
   ]
  },
  {
   "cell_type": "code",
   "execution_count": 14,
   "metadata": {},
   "outputs": [],
   "source": [
    "set.seed(88)\n",
    "sample <- sample.split(data, SplitRatio = 0.80)\n",
    "train =subset(data,sample ==TRUE) \n",
    "test =subset(data, sample==FALSE)"
   ]
  },
  {
   "cell_type": "code",
   "execution_count": null,
   "metadata": {},
   "outputs": [],
   "source": [
    "glm.fit <- glm(Winner ~ ., data = train, family = binomial)\n",
    "summary(glm.fit)\n",
    "data.frame(summary(glm.fit)$coef[summary(glm.fit)$coef[,4] <= .05, 4])"
   ]
  },
  {
   "cell_type": "markdown",
   "metadata": {},
   "source": [
    "## Regression Analysis on individual features\n",
    "### How the outcome varies with Regions?"
   ]
  },
  {
   "cell_type": "code",
   "execution_count": null,
   "metadata": {},
   "outputs": [],
   "source": [
    "glm.fit <- glm(Winner ~ Region, data = data, family = binomial)\n",
    "x <- summary(glm.fit)"
   ]
  },
  {
   "cell_type": "code",
   "execution_count": null,
   "metadata": {},
   "outputs": [],
   "source": [
    "## Comparing the odds ratio for various regions\n",
    "exp(cbind(Odd_Ratio = coef(glm.fit), confint(glm.fit)))\n",
    "## Comparing the prob of regions\n",
    "data.frame(exp( coef(glm.fit) ) /  ( 1 + exp( coef(glm.fit) ) ))"
   ]
  },
  {
   "cell_type": "markdown",
   "metadata": {},
   "source": [
    "### How outcome varies with Claim Types?"
   ]
  },
  {
   "cell_type": "code",
   "execution_count": null,
   "metadata": {},
   "outputs": [],
   "source": [
    "glm.fit <- glm(Winner ~ Claim.Type.1..Breach.of.Contract.Breach.of.Implied.Contract + \n",
    "    Claim.Type.2..QuasiContractual.Claims + Claim.Type.3..Breach.of.Fiduciary.Duty + \n",
    "    Claim.Type.4..Negligence + Claim.Type.5..Failure.to.Supervise.Negligent.Supervision + \n",
    "    Claim.Type.6..Fraud + Claim.Type.7..Unjust.Enrichment + Claim.Type.8..Suitability.or.Unsuitability + \n",
    "    Claim.Type.9..Misrepresentation + Claim.Type.10..Unauthorized.Trading + \n",
    "    Claim.Type.11..Churning + Claim.Type.12..Failure.to.Execute + \n",
    "    Claim.Type.13..Breach.of.Promissory.Note + Claim.Type.14..Conversion.1 + \n",
    "    Claim.Type.15..Violation.of.Securities.Laws.Regulations + \n",
    "    Claim.Type.16..Employment.Related.Claims + Claim.Type.17..Other, data = data, family = binomial)"
   ]
  },
  {
   "cell_type": "code",
   "execution_count": null,
   "metadata": {},
   "outputs": [],
   "source": [
    "data.frame(exp( coef(glm.fit) ) /  ( 1 + exp( coef(glm.fit) ) ))"
   ]
  },
  {
   "cell_type": "code",
   "execution_count": null,
   "metadata": {},
   "outputs": [],
   "source": []
  },
  {
   "cell_type": "code",
   "execution_count": null,
   "metadata": {},
   "outputs": [],
   "source": []
  },
  {
   "cell_type": "code",
   "execution_count": null,
   "metadata": {},
   "outputs": [],
   "source": []
  },
  {
   "cell_type": "code",
   "execution_count": null,
   "metadata": {},
   "outputs": [],
   "source": []
  }
 ],
 "metadata": {
  "kernelspec": {
   "display_name": "R",
   "language": "R",
   "name": "ir"
  },
  "language_info": {
   "codemirror_mode": "r",
   "file_extension": ".r",
   "mimetype": "text/x-r-source",
   "name": "R",
   "pygments_lexer": "r",
   "version": "3.4.4"
  }
 },
 "nbformat": 4,
 "nbformat_minor": 2
}
